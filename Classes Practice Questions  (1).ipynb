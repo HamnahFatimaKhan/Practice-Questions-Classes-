{
 "cells": [
  {
   "cell_type": "code",
   "execution_count": null,
   "id": "6ab68746-366c-41a5-8fc6-d557e8686e8b",
   "metadata": {},
   "outputs": [],
   "source": [
    "# Practice Exercises"
   ]
  },
  {
   "cell_type": "code",
   "execution_count": 9,
   "id": "a69b16c6-4479-403d-8423-05a30a9b0694",
   "metadata": {},
   "outputs": [
    {
     "name": "stdout",
     "output_type": "stream",
     "text": [
      "Name: Hamnah , Age: 18 , City: Lahore\n"
     ]
    }
   ],
   "source": [
    "#  1. Create a class Person with attributes name, age, and city.\n",
    "class Person:\n",
    "    def __init__(self,name,age,city):\n",
    "        self.name = name\n",
    "        self.age = age\n",
    "        self.city = city\n",
    "person1 = Person(\"Hamnah\",18,\"Lahore\")\n",
    "print(\"Name:\", person1.name, \", Age:\", person1.age, \", City:\", person1.city)"
   ]
  },
  {
   "cell_type": "code",
   "execution_count": 52,
   "id": "2b1f4e73-11f2-4484-b191-a9452d912739",
   "metadata": {},
   "outputs": [
    {
     "name": "stdout",
     "output_type": "stream",
     "text": [
      "Audi A4 2024\n"
     ]
    }
   ],
   "source": [
    "# 2. Create a class Car with attributes make, model, and year.\n",
    "class Car:\n",
    "    def __init__(self,make,model,year):\n",
    "        self.make = make\n",
    "        self.model = model\n",
    "        self.year = year\n",
    "    def get_descriptive_name(self):\n",
    "        long_name = f\"{self.make} {self.model} {self.year}\"\n",
    "        return long_name.title()\n",
    "my_car = Car(\"Audi\",\"a4\",2024)\n",
    "print(my_car.get_descriptive_name())\n",
    "        \n"
   ]
  },
  {
   "cell_type": "code",
   "execution_count": 76,
   "id": "f77e6476-81c7-4598-b72d-241ab875bea8",
   "metadata": {},
   "outputs": [
    {
     "name": "stdout",
     "output_type": "stream",
     "text": [
      "Radius= 3\n",
      "Area= 28.26\n",
      "Circumference= 18.84\n"
     ]
    }
   ],
   "source": [
    "# 3. Create a class Circle with attributes radius and methods to calculate area and circumference.\n",
    "class Circle:\n",
    "    def __init__(self, radius):\n",
    "        self.radius = radius  \n",
    "    def area(self): \n",
    "        return 3.14 * self.radius ** 2  \n",
    "    def circumference(self): \n",
    "        return 2 * 3.14 * self.radius \n",
    "circle1 = Circle(3)\n",
    "print(\"Radius=\",circle1.radius)\n",
    "print(\"Area=\",circle1.area())  \n",
    "print(\"Circumference=\",circle1.circumference()) "
   ]
  },
  {
   "cell_type": "code",
   "execution_count": 78,
   "id": "f6906bb9-f613-4bc8-a604-c12c5ce8e975",
   "metadata": {},
   "outputs": [
    {
     "name": "stdout",
     "output_type": "stream",
     "text": [
      "Length= 7\n",
      "Width= 9\n",
      "Area= 63\n",
      "Perimeter= 23\n"
     ]
    }
   ],
   "source": [
    "# 4. Create a class Rectangle with attributes length and width and methods to calculate area and perimeter.\n",
    "class Rectangle:\n",
    "    def __init__(self,length,width):\n",
    "        self.length =length\n",
    "        self.width = width\n",
    "    def area(self):\n",
    "        return self.length*self.width\n",
    "    def perimeter(self):\n",
    "        return 2*self.length+self.width\n",
    "rectangle1 = Rectangle(7,9)\n",
    "print(\"Length=\",rectangle1.length)\n",
    "print(\"Width=\",rectangle1.width)\n",
    "print(\"Area=\",rectangle1.area())\n",
    "print(\"Perimeter=\",rectangle1.perimeter())\n",
    "        "
   ]
  },
  {
   "cell_type": "code",
   "execution_count": 89,
   "id": "3a35ce03-ca2b-48d2-a48b-5738f1a80d74",
   "metadata": {},
   "outputs": [
    {
     "name": "stdout",
     "output_type": "stream",
     "text": [
      "Name of the student is  Hamnah\n",
      "Roll number of the student is  31\n",
      "Marks of the student are  [90, 89, 74, 56, 61]\n",
      "Average Marks = 74.0\n"
     ]
    }
   ],
   "source": [
    "# 5. Create a class Student with attributes name, roll_number, and marks. Implement a method to calculate the average marks.\n",
    "class Student:\n",
    "    def __init__(self,name,roll_number,marks):\n",
    "        self.name = name\n",
    "        self.roll_number =roll_number\n",
    "        self.marks = marks \n",
    "    def avg_marks(self):\n",
    "       return sum(self.marks)/len(self.marks)\n",
    "student1 = Student(\"Hamnah\",31,[90,89,74,56,61])\n",
    "print(\"Name of the student is \",student1.name)\n",
    "print(\"Roll number of the student is \",student1.roll_number)\n",
    "print(\"Marks of the student are \",student1.marks)\n",
    "print(\"Average Marks =\",student1.avg_marks())"
   ]
  },
  {
   "cell_type": "code",
   "execution_count": 99,
   "id": "9c92b345-2655-4618-9eb4-e9ba6f4db2a7",
   "metadata": {
    "scrolled": true
   },
   "outputs": [
    {
     "name": "stdout",
     "output_type": "stream",
     "text": [
      "Title: Python Crash Course\n",
      "Author: Eric Matthes\n",
      "Publication Year: 2016\n"
     ]
    }
   ],
   "source": [
    "# 6. Create a class Book with attributes title, author, and publication_year.\n",
    "class Book:\n",
    "    def __init__(self,title,author,publication_year):\n",
    "        self.title = title\n",
    "        self.author = author\n",
    "        self.publication_year = publication_year\n",
    "book1 = Book(\"Python Crash Course\",\"Eric Matthes\",2016)\n",
    "print(\"Title:\",book1.title)\n",
    "print(\"Author:\",book1.author)\n",
    "print(\"Publication Year:\",book1.publication_year)\n",
    "        "
   ]
  },
  {
   "cell_type": "code",
   "execution_count": 109,
   "id": "24a4397a-30ca-4dc2-bc72-c8cd2880dd4f",
   "metadata": {},
   "outputs": [
    {
     "name": "stdout",
     "output_type": "stream",
     "text": [
      "Name: Hamnah\n",
      "Salary: 56673$\n",
      "Designation: Data Analyst\n"
     ]
    }
   ],
   "source": [
    "# 7. Create a class Employee with attributes name, salary, and designation.\n",
    "class Employee:\n",
    "    def __init__(self,name,salary,designation):\n",
    "        self.name = name\n",
    "        self.salary = salary\n",
    "        self.designation = designation\n",
    "    def details(self):\n",
    "        print(\"Name:\",self.name)\n",
    "        print(\"Salary:\",self.salary)\n",
    "        print(\"Designation:\",self.designation)\n",
    "employee1 = Employee(\"Hamnah\",\"56673$\",\"Data Analyst\")\n",
    "employee1.details()\n"
   ]
  },
  {
   "cell_type": "code",
   "execution_count": 121,
   "id": "6ae340bc-ea2c-46b1-9156-1f0193dd6ffc",
   "metadata": {},
   "outputs": [
    {
     "name": "stdout",
     "output_type": "stream",
     "text": [
      "Account Holder: Jen\n",
      "Account Number: 1234567890\n",
      "Balance: 1000\n",
      "Deposited: 500. New balance: 1500\n",
      "Withdrew: 300. New balance: 1200\n"
     ]
    }
   ],
   "source": [
    "# 8. Create a class Bank with attributes name, account_number, and balance. Implement methods to deposit and withdraw money\n",
    "class Bank:\n",
    "    def __init__(self, name, account_number, balance=0):\n",
    "        self.name = name                  \n",
    "        self.account_number = account_number  \n",
    "        self.balance = balance           \n",
    "    def deposit(self, amount):\n",
    "        if amount > 0:\n",
    "            self.balance += amount\n",
    "            print(f\"Deposited: {amount}. New balance: {self.balance}\")\n",
    "        else:\n",
    "            print(\"Deposit amount must be greater than 0.\")\n",
    "    def withdraw(self, amount):\n",
    "        if amount > 0 and amount <= self.balance:\n",
    "            self.balance -= amount\n",
    "            print(f\"Withdrew: {amount}. New balance: {self.balance}\")\n",
    "        elif amount > self.balance:\n",
    "            print(\"Insufficient balance.\")\n",
    "        else:\n",
    "            print(\"Withdrawal amount must be greater than 0.\")\n",
    "    def account_details(self):\n",
    "        print(f\"Account Holder: {self.name}\")\n",
    "        print(f\"Account Number: {self.account_number}\")\n",
    "        print(f\"Balance: {self.balance}\")\n",
    "account1 = Bank(\"Jen\", \"1234567890\", 1000)\n",
    "account1.account_details()\n",
    "account1.deposit(500)\n",
    "account1.withdraw(300)"
   ]
  }
 ],
 "metadata": {
  "kernelspec": {
   "display_name": "Python 3 (ipykernel)",
   "language": "python",
   "name": "python3"
  },
  "language_info": {
   "codemirror_mode": {
    "name": "ipython",
    "version": 3
   },
   "file_extension": ".py",
   "mimetype": "text/x-python",
   "name": "python",
   "nbconvert_exporter": "python",
   "pygments_lexer": "ipython3",
   "version": "3.12.7"
  }
 },
 "nbformat": 4,
 "nbformat_minor": 5
}
